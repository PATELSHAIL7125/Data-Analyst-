{
 "cells": [
  {
   "cell_type": "code",
   "execution_count": 1,
   "id": "09d35c95",
   "metadata": {},
   "outputs": [],
   "source": [
    "import numpy as np "
   ]
  },
  {
   "cell_type": "code",
   "execution_count": 2,
   "id": "40cc3f6f",
   "metadata": {},
   "outputs": [
    {
     "name": "stdout",
     "output_type": "stream",
     "text": [
      "1\n",
      "5\n",
      "87\n",
      "5\n",
      "6\n",
      "8\n",
      "6\n",
      "4\n",
      "5\n",
      "54\n",
      "5\n",
      "5\n",
      "5\n"
     ]
    }
   ],
   "source": [
    "var = np.array([1,5,87,5,6,8,6,4,5,54,5,5,5])\n",
    "\n",
    "for i in var:\n",
    "    print(i)\n"
   ]
  },
  {
   "cell_type": "code",
   "execution_count": 12,
   "id": "cac1613d",
   "metadata": {},
   "outputs": [
    {
     "name": "stdout",
     "output_type": "stream",
     "text": [
      "1\n",
      "[1 2 3]\n",
      "2\n",
      "[1 2 3]\n",
      "3\n",
      "[1 2 3]\n",
      "4\n",
      "[4 5 6]\n",
      "5\n",
      "[4 5 6]\n",
      "6\n",
      "[4 5 6]\n",
      "7\n",
      "[7 8 9]\n",
      "8\n",
      "[7 8 9]\n",
      "9\n",
      "[7 8 9]\n"
     ]
    }
   ],
   "source": [
    "var1 = np.array([[1, 2, 3], [4, 5, 6], [7, 8, 9]])\n",
    "\n",
    "for j in var1:\n",
    "    for k in j:\n",
    "        print(k)\n",
    "        print(j)"
   ]
  },
  {
   "cell_type": "code",
   "execution_count": 21,
   "id": "bffe4a41",
   "metadata": {},
   "outputs": [
    {
     "name": "stdout",
     "output_type": "stream",
     "text": [
      "1\n",
      "2\n",
      "3\n",
      "4\n",
      "5\n",
      "6\n",
      "7\n",
      "8\n",
      "9\n",
      "((0, 0), 1)\n",
      "((0, 1), 2)\n",
      "((0, 2), 3)\n",
      "((1, 0), 4)\n",
      "((1, 1), 5)\n",
      "((1, 2), 6)\n",
      "((2, 0), 7)\n",
      "((2, 1), 8)\n",
      "((2, 2), 9)\n"
     ]
    }
   ],
   "source": [
    "import numpy as np\n",
    "\n",
    "var1 = np.array([[1, 2, 3], [4, 5, 6], [7, 8, 9]])\n",
    "\n",
    "for i in np.nditer(var1, flags=['buffered'], op_dtypes=['int32']):\n",
    "    print(i)\n",
    "\n",
    "for i in np.ndenumerate(var1):\n",
    "    print(i)"
   ]
  },
  {
   "cell_type": "code",
   "execution_count": null,
   "id": "85db3628",
   "metadata": {},
   "outputs": [],
   "source": []
  }
 ],
 "metadata": {
  "kernelspec": {
   "display_name": "Python 3",
   "language": "python",
   "name": "python3"
  },
  "language_info": {
   "codemirror_mode": {
    "name": "ipython",
    "version": 3
   },
   "file_extension": ".py",
   "mimetype": "text/x-python",
   "name": "python",
   "nbconvert_exporter": "python",
   "pygments_lexer": "ipython3",
   "version": "3.11.4"
  }
 },
 "nbformat": 4,
 "nbformat_minor": 5
}
