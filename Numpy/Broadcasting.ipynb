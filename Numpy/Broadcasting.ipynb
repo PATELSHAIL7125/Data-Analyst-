{
 "cells": [
  {
   "cell_type": "code",
   "execution_count": 2,
   "id": "d80d59d1",
   "metadata": {},
   "outputs": [],
   "source": [
    "import numpy as np "
   ]
  },
  {
   "cell_type": "markdown",
   "id": "a099d0e3",
   "metadata": {},
   "source": [
    "Broadcating "
   ]
  },
  {
   "cell_type": "code",
   "execution_count": null,
   "id": "d60296d2",
   "metadata": {},
   "outputs": [],
   "source": [
    "# What is Broadcasting?\n",
    "# ex .,\n",
    "\n",
    "#var1= np.array([1,2,3])\n",
    "#var2= np.array([4,5,6,7])\n",
    "# print(var1+var2) # this will give an error because the shapes are not compatible\n",
    "\n",
    "# it will give a error of Broadcasting because the shapes is not same "
   ]
  },
  {
   "cell_type": "code",
   "execution_count": 7,
   "id": "5410f26f",
   "metadata": {},
   "outputs": [
    {
     "name": "stdout",
     "output_type": "stream",
     "text": [
      "(3,)\n",
      "(3, 1)\n",
      "(3, 3)\n"
     ]
    }
   ],
   "source": [
    "var1 = np.array([1,2,3])\n",
    "print(var1.shape) \n",
    "var2= np.array([[1],[2],[3]])\n",
    "print(var2.shape)\n",
    "\n",
    "var3 = var1*var2\n",
    "print(var3.shape) # this will give an error because the shapes are not compatible"
   ]
  },
  {
   "cell_type": "code",
   "execution_count": null,
   "id": "b8eb1a6b",
   "metadata": {},
   "outputs": [],
   "source": []
  }
 ],
 "metadata": {
  "kernelspec": {
   "display_name": "Python 3",
   "language": "python",
   "name": "python3"
  },
  "language_info": {
   "codemirror_mode": {
    "name": "ipython",
    "version": 3
   },
   "file_extension": ".py",
   "mimetype": "text/x-python",
   "name": "python",
   "nbconvert_exporter": "python",
   "pygments_lexer": "ipython3",
   "version": "3.11.4"
  }
 },
 "nbformat": 4,
 "nbformat_minor": 5
}
