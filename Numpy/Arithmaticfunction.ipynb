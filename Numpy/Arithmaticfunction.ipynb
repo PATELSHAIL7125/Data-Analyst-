{
 "cells": [
  {
   "cell_type": "code",
   "execution_count": 1,
   "id": "9f9f1203",
   "metadata": {},
   "outputs": [],
   "source": [
    "import numpy as np"
   ]
  },
  {
   "cell_type": "code",
   "execution_count": null,
   "id": "61efad85",
   "metadata": {},
   "outputs": [
    {
     "name": "stdout",
     "output_type": "stream",
     "text": [
      "3 2\n",
      "1\n",
      "2.0\n",
      "2.0\n",
      "0.816496580927726\n",
      "0.6666666666666666\n",
      "6\n",
      "6\n",
      "[1 3 6]\n"
     ]
    }
   ],
   "source": [
    "var = np.array([1, 2, 3])\n",
    "print(np.max(var),np.argmax(var)) # argmax returns the index of max number \n",
    "print(np.min(var))\n",
    "print(np.mean(var))\n",
    "print(np.median(var))\n",
    "print(np.std(var))\n",
    "print(np.var(var))\n",
    "print(np.sum(var))\n",
    "print(np.prod(var))\n",
    "print(np.cumsum(var))\n"
   ]
  },
  {
   "cell_type": "code",
   "execution_count": 5,
   "id": "329ce7b8",
   "metadata": {},
   "outputs": [
    {
     "name": "stdout",
     "output_type": "stream",
     "text": [
      "[4 5 6]\n",
      "[3 6]\n",
      "[[1.         1.41421356 1.73205081]\n",
      " [2.         2.23606798 2.44948974]]\n"
     ]
    }
   ],
   "source": [
    "var2 = np.array([[1, 2, 3], [4, 5, 6]])\n",
    "print(np.max(var2, axis=0)) # max of each column\n",
    "print(np.max(var2, axis=1)) # max of each row\n",
    "print(np.sqrt(var2))"
   ]
  },
  {
   "cell_type": "code",
   "execution_count": 7,
   "id": "1f602f49",
   "metadata": {},
   "outputs": [
    {
     "name": "stdout",
     "output_type": "stream",
     "text": [
      "[[ 0.84147098  0.90929743  0.14112001]\n",
      " [-0.7568025  -0.95892427 -0.2794155 ]]\n"
     ]
    }
   ],
   "source": [
    "var2 = np.array([[1, 2, 3], [4, 5, 6]])\n",
    "print(np.sin(var2)) # sin of each element"
   ]
  }
 ],
 "metadata": {
  "kernelspec": {
   "display_name": "Python 3",
   "language": "python",
   "name": "python3"
  },
  "language_info": {
   "codemirror_mode": {
    "name": "ipython",
    "version": 3
   },
   "file_extension": ".py",
   "mimetype": "text/x-python",
   "name": "python",
   "nbconvert_exporter": "python",
   "pygments_lexer": "ipython3",
   "version": "3.11.4"
  }
 },
 "nbformat": 4,
 "nbformat_minor": 5
}
