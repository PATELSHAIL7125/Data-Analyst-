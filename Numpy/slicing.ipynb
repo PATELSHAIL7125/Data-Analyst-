{
 "cells": [
  {
   "cell_type": "code",
   "execution_count": 1,
   "id": "53ec38f8",
   "metadata": {},
   "outputs": [],
   "source": [
    "import numpy as np "
   ]
  },
  {
   "cell_type": "code",
   "execution_count": null,
   "id": "3357f1f5",
   "metadata": {},
   "outputs": [
    {
     "name": "stdout",
     "output_type": "stream",
     "text": [
      "[10  9  8  7  6  5  4  3  2  1]\n",
      "[ 1  4  7 10]\n"
     ]
    }
   ],
   "source": [
    "# in slicing this is the syntax of that function \n",
    "# x[start:stop:step]\n",
    "\n",
    "var1 = np.array([1, 2, 3, 4, 5, 6, 7, 8, 9,10])\n",
    "var2=var1[0:10:3]\n",
    "var3 = var1[::-1] # this is used to reverse the array\n",
    "print(var3)\n",
    "# in this i give step 3 means it will take 3 step in above \n",
    "# example take 1 after take 4 means 3 element will take in this function\n",
    "print(var2)"
   ]
  },
  {
   "cell_type": "markdown",
   "id": "bdde161b",
   "metadata": {},
   "source": [
    "slicing in two dimesion array "
   ]
  },
  {
   "cell_type": "code",
   "execution_count": null,
   "id": "1ed343d6",
   "metadata": {},
   "outputs": [
    {
     "name": "stdout",
     "output_type": "stream",
     "text": [
      "[[2 3 4]\n",
      " [5 6 4]]\n"
     ]
    }
   ],
   "source": [
    "var1 = np.array([[1, 2, 3,4], [4, 5, 6,4], [7, 8, 9,4]])\n",
    "var2 =  var1[0:2: , 1:4] # this is used to slice the array\n",
    "# array[row_start:row_end, col_start:col_end]\n",
    "# in above example it takes 0 and 1 row not takes 2 and it takes 1 2 and 3 column not 4 \n",
    "print(var2)"
   ]
  }
 ],
 "metadata": {
  "kernelspec": {
   "display_name": "Python 3",
   "language": "python",
   "name": "python3"
  },
  "language_info": {
   "codemirror_mode": {
    "name": "ipython",
    "version": 3
   },
   "file_extension": ".py",
   "mimetype": "text/x-python",
   "name": "python",
   "nbconvert_exporter": "python",
   "pygments_lexer": "ipython3",
   "version": "3.11.4"
  }
 },
 "nbformat": 4,
 "nbformat_minor": 5
}
