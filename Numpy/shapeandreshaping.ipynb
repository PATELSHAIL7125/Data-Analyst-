{
 "cells": [
  {
   "cell_type": "code",
   "execution_count": 1,
   "id": "f0ecd9f4",
   "metadata": {},
   "outputs": [],
   "source": [
    "import numpy as np "
   ]
  },
  {
   "cell_type": "code",
   "execution_count": 2,
   "id": "c2e7c0a6",
   "metadata": {},
   "outputs": [
    {
     "name": "stdout",
     "output_type": "stream",
     "text": [
      "[[1 5 6]\n",
      " [1 7 8]]\n",
      "(2, 3)\n"
     ]
    }
   ],
   "source": [
    "var = np.array([[1,5,6],[1,7,8]])\n",
    "print(var)\n",
    "print(var.shape) # (2,3)\n"
   ]
  },
  {
   "cell_type": "code",
   "execution_count": null,
   "id": "2e93d006",
   "metadata": {},
   "outputs": [
    {
     "name": "stdout",
     "output_type": "stream",
     "text": [
      "[[[[[1 5 6 7]]]]]\n",
      "(1, 1, 1, 1, 4)\n"
     ]
    }
   ],
   "source": [
    "var1 = np.array([1,5,6,7],ndmin=5)\n",
    "print(var1)\n",
    "print(var1.shape) # (1, 1, 1, 1, 4) bcz 4 no of rows therefor (1,1,1,1,4) and 4 no of cloumns "
   ]
  },
  {
   "cell_type": "markdown",
   "id": "6218d7ba",
   "metadata": {},
   "source": [
    "Reshaping and Shape of Numpy Array"
   ]
  },
  {
   "cell_type": "code",
   "execution_count": 7,
   "id": "2ba1d170",
   "metadata": {},
   "outputs": [
    {
     "name": "stdout",
     "output_type": "stream",
     "text": [
      "[[1 8 9]\n",
      " [5 6 4]\n",
      " [5 6 4]]\n",
      "(3, 3)\n"
     ]
    }
   ],
   "source": [
    "var2 = np.array([1,8,9,5,6,4,5,6,4])\n",
    "\n",
    "x= var2.reshape(3,3)\n",
    "print(x)\n",
    "print(x.shape) # (3,3) bcz 3 no of rows and 3 no of cloumns"
   ]
  },
  {
   "cell_type": "code",
   "execution_count": null,
   "id": "57ec03ee",
   "metadata": {},
   "outputs": [
    {
     "name": "stdout",
     "output_type": "stream",
     "text": [
      "[1 8 9 5 6 4 5 6 4]\n",
      "(9,)\n",
      "1\n"
     ]
    }
   ],
   "source": [
    "var2 = np.array([1,8,9,5,6,4,5,6,4])\n",
    "\n",
    "x= var2.reshape(-1) # -1 means it will take the no of rows automatically and 1 no of cloumns\n",
    "print(x)\n",
    "print(x.shape) # (9,) bcz 9 no of rows and 1 no of cloumns\n",
    "print(x.ndim)"
   ]
  }
 ],
 "metadata": {
  "kernelspec": {
   "display_name": "Python 3",
   "language": "python",
   "name": "python3"
  },
  "language_info": {
   "codemirror_mode": {
    "name": "ipython",
    "version": 3
   },
   "file_extension": ".py",
   "mimetype": "text/x-python",
   "name": "python",
   "nbconvert_exporter": "python",
   "pygments_lexer": "ipython3",
   "version": "3.11.4"
  }
 },
 "nbformat": 4,
 "nbformat_minor": 5
}
