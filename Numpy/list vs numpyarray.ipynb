{
 "cells": [
  {
   "cell_type": "code",
   "execution_count": 1,
   "id": "634b20a4",
   "metadata": {},
   "outputs": [],
   "source": [
    "import numpy as np"
   ]
  },
  {
   "cell_type": "markdown",
   "id": "d589cca4",
   "metadata": {},
   "source": [
    "numpy array is faster than list <br>\n",
    "numpy array is consuming the less memory <br>\n",
    "numpy array is store a only one type of data\n"
   ]
  },
  {
   "cell_type": "code",
   "execution_count": null,
   "id": "00186a3d",
   "metadata": {},
   "outputs": [
    {
     "name": "stdout",
     "output_type": "stream",
     "text": [
      "1.22 μs ± 64.7 ns per loop (mean ± std. dev. of 7 runs, 100,000 loops each)\n",
      "[1 2 3 4 5]\n",
      "<class 'numpy.ndarray'>\n"
     ]
    }
   ],
   "source": [
    "x= np.array([1, 2, 3, 4, 5])\n",
    "print(x)\n",
    "print(type(x))\n",
    "# it is a nupy array"
   ]
  },
  {
   "cell_type": "code",
   "execution_count": null,
   "id": "7f248575",
   "metadata": {},
   "outputs": [
    {
     "name": "stdout",
     "output_type": "stream",
     "text": [
      "71.5 ns ± 9.72 ns per loop (mean ± std. dev. of 7 runs, 10,000,000 loops each)\n",
      "[1, 2, 3, 4, 5]\n",
      "<class 'list'>\n"
     ]
    }
   ],
   "source": [
    "y= [1, 2, 3, 4, 5]\n",
    "print(y)\n",
    "print(type(y))\n",
    "#it is a list \n",
    "# in list you can enter a any type of data  but in numoy array you can only enter a one data type "
   ]
  },
  {
   "cell_type": "code",
   "execution_count": null,
   "id": "1065e496",
   "metadata": {},
   "outputs": [],
   "source": []
  }
 ],
 "metadata": {
  "kernelspec": {
   "display_name": "Python 3",
   "language": "python",
   "name": "python3"
  },
  "language_info": {
   "codemirror_mode": {
    "name": "ipython",
    "version": 3
   },
   "file_extension": ".py",
   "mimetype": "text/x-python",
   "name": "python",
   "nbconvert_exporter": "python",
   "pygments_lexer": "ipython3",
   "version": "3.11.4"
  }
 },
 "nbformat": 4,
 "nbformat_minor": 5
}
