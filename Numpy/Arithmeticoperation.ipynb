{
 "cells": [
  {
   "cell_type": "code",
   "execution_count": 1,
   "id": "6b2e1c2c",
   "metadata": {},
   "outputs": [],
   "source": [
    "import numpy as np"
   ]
  },
  {
   "cell_type": "markdown",
   "id": "49942e0b",
   "metadata": {},
   "source": [
    "Arithmetic operation using numpy"
   ]
  },
  {
   "cell_type": "code",
   "execution_count": null,
   "id": "0779479a",
   "metadata": {},
   "outputs": [
    {
     "name": "stdout",
     "output_type": "stream",
     "text": [
      "[4 5 7 8 9]\n",
      "[ 3  6 12 15 18]\n",
      "[0.33333333 0.66666667 1.33333333 1.66666667 2.        ]\n",
      "[-2 -1  1  2  3]\n",
      "[1 2 1 2 0]\n",
      "[ 5  7 11 13 15]\n"
     ]
    }
   ],
   "source": [
    "var = np.array([1,2,4,5,6])\n",
    "\n",
    "varadd = var+3\n",
    "print(varadd)\n",
    "\n",
    "varmmul = var*3\n",
    "print(varmmul)\n",
    "\n",
    "vardiv = var/3\n",
    "print(vardiv)\n",
    "\n",
    "varsub = var-3\n",
    "print(varsub)\n",
    "\n",
    "varmod  = var%3\n",
    "print(varmod)\n",
    "\n",
    "varadd2 = var + varadd\n",
    "print(varadd2)"
   ]
  },
  {
   "cell_type": "code",
   "execution_count": 4,
   "id": "6a53b94c",
   "metadata": {},
   "outputs": [
    {
     "name": "stdout",
     "output_type": "stream",
     "text": [
      "[ 3  8 10 12 14 16]\n"
     ]
    }
   ],
   "source": [
    "var1 = np.array([1,5,6,7,8,9])\n",
    "var2 = np.array([2,3,4,5,6,7])\n",
    "\n",
    "var3 = var1 + var2\n",
    "print(var3)"
   ]
  },
  {
   "cell_type": "markdown",
   "id": "72b3b795",
   "metadata": {},
   "source": [
    "Arithmatic operation in 2D array "
   ]
  },
  {
   "cell_type": "code",
   "execution_count": 7,
   "id": "6c6df010",
   "metadata": {},
   "outputs": [
    {
     "name": "stdout",
     "output_type": "stream",
     "text": [
      "[[ 3  5  7  9 11 13]\n",
      " [ 5 10 12 14 16 18]]\n"
     ]
    }
   ],
   "source": [
    "var21 = np.array([[1,2,3,4,5,6],[4,8,9,10,11,12]])\n",
    "var22 = np.array([[2,3,4,5,6,7],[1,2,3,4,5,6]])\n",
    "\n",
    "varadd= var21 + var22\n",
    "print(varadd)\n"
   ]
  }
 ],
 "metadata": {
  "kernelspec": {
   "display_name": "Python 3",
   "language": "python",
   "name": "python3"
  },
  "language_info": {
   "codemirror_mode": {
    "name": "ipython",
    "version": 3
   },
   "file_extension": ".py",
   "mimetype": "text/x-python",
   "name": "python",
   "nbconvert_exporter": "python",
   "pygments_lexer": "ipython3",
   "version": "3.11.4"
  }
 },
 "nbformat": 4,
 "nbformat_minor": 5
}
