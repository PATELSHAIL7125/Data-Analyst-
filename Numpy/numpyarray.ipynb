{
 "cells": [
  {
   "cell_type": "code",
   "execution_count": null,
   "id": "708da669",
   "metadata": {},
   "outputs": [],
   "source": [
    "import numpy as np"
   ]
  },
  {
   "cell_type": "markdown",
   "id": "808ef26c",
   "metadata": {},
   "source": [
    "Simple numpy array declaration and operations"
   ]
  },
  {
   "cell_type": "code",
   "execution_count": null,
   "id": "c7803164",
   "metadata": {},
   "outputs": [],
   "source": [
    "a= np.array([1,2,3,4,5])\n"
   ]
  },
  {
   "cell_type": "markdown",
   "id": "cc40734a",
   "metadata": {},
   "source": [
    "From list to numpy array"
   ]
  },
  {
   "cell_type": "code",
   "execution_count": null,
   "id": "4ab5b981",
   "metadata": {},
   "outputs": [
    {
     "name": "stdout",
     "output_type": "stream",
     "text": [
      "[1 2 3 4 5]\n",
      "<class 'numpy.ndarray'>\n",
      "<class 'list'>\n"
     ]
    }
   ],
   "source": [
    "x = [1,2,3,4,5]\n",
    "y= np.array(x)\n",
    "print(y)\n",
    "print(type(y))"
   ]
  },
  {
   "cell_type": "code",
   "execution_count": 6,
   "id": "86c0cb57",
   "metadata": {},
   "outputs": [
    {
     "name": "stdout",
     "output_type": "stream",
     "text": [
      "['5' '5' '4' '6' '5']\n"
     ]
    }
   ],
   "source": [
    "l =[]\n",
    "for i in range(5):\n",
    "    int_l=input(\"Enter a number:\")\n",
    "    l.append(int_l)\n",
    "\n",
    "print(np.array(l))"
   ]
  },
  {
   "cell_type": "markdown",
   "id": "d798b4e1",
   "metadata": {},
   "source": [
    "Types of Array in Numpy "
   ]
  },
  {
   "cell_type": "code",
   "execution_count": 12,
   "id": "e32a15b5",
   "metadata": {},
   "outputs": [
    {
     "name": "stdout",
     "output_type": "stream",
     "text": [
      "int32\n",
      "(2, 4)\n",
      "2\n"
     ]
    }
   ],
   "source": [
    "# For checking a data type of an array we use dtype method \n",
    "ar2 = np.array([[1,2,3,4],[8,7,5,6]]) # it is 2 row and 4 column array\n",
    "print(ar2.dtype)# it will show the data type of the array\n",
    "print(ar2.shape)# it will show the shape of the array\n",
    "print(ar2.ndim)# it will show the number of dimensions of the array"
   ]
  },
  {
   "cell_type": "code",
   "execution_count": null,
   "id": "fd5deccd",
   "metadata": {},
   "outputs": [
    {
     "name": "stdout",
     "output_type": "stream",
     "text": [
      "[[[[[[[[[[1 2 3 4]]]]]]]]]]\n",
      "10\n"
     ]
    }
   ],
   "source": [
    "arn = np.array([1,2,3,4],ndmin=10) # it will create an array with 10 dimensions\n",
    "print(arn)\n",
    "print(arn.ndim) # it will show the number of dimensions of the array"
   ]
  },
  {
   "cell_type": "markdown",
   "id": "8ac227d2",
   "metadata": {},
   "source": [
    "Zeros"
   ]
  },
  {
   "cell_type": "code",
   "execution_count": 20,
   "id": "7f58eb79",
   "metadata": {},
   "outputs": [
    {
     "name": "stdout",
     "output_type": "stream",
     "text": [
      "[[0. 0. 0. 0.]\n",
      " [0. 0. 0. 0.]\n",
      " [0. 0. 0. 0.]]\n"
     ]
    }
   ],
   "source": [
    "ar_zero = np.zeros((3,4)) # it will create an array with 3 rows and 4 columns with all values as 0\n",
    "# here 3 is the no of row and 4 is the no of coloumn \n",
    "print(ar_zero)"
   ]
  },
  {
   "cell_type": "code",
   "execution_count": 21,
   "id": "1a686b65",
   "metadata": {},
   "outputs": [
    {
     "name": "stdout",
     "output_type": "stream",
     "text": [
      "[[1. 1. 1. 1.]\n",
      " [1. 1. 1. 1.]\n",
      " [1. 1. 1. 1.]]\n"
     ]
    }
   ],
   "source": [
    "# Array fills with Ones \n",
    "\n",
    "ar_one = np.ones((3,4)) # it will create an array with 3 rows and 4 columns with all values as 1\n",
    "print(ar_one)"
   ]
  },
  {
   "cell_type": "markdown",
   "id": "185be1a6",
   "metadata": {},
   "source": [
    "Empty "
   ]
  },
  {
   "cell_type": "code",
   "execution_count": null,
   "id": "c5cacf17",
   "metadata": {},
   "outputs": [
    {
     "name": "stdout",
     "output_type": "stream",
     "text": [
      "[[1. 1. 1. 1.]\n",
      " [1. 1. 1. 1.]\n",
      " [1. 1. 1. 1.]]\n"
     ]
    }
   ],
   "source": [
    "ar_emnp = np.empty((3,4)) # it will create an array with 3 rows and 4 columns with all values as empty\n",
    "print(ar_emnp)\n",
    "# in this case the previous values will be store in the empty array "
   ]
  },
  {
   "cell_type": "markdown",
   "id": "ee3a8b2c",
   "metadata": {},
   "source": [
    "Range Array \n"
   ]
  },
  {
   "cell_type": "code",
   "execution_count": 24,
   "id": "f7f27dd3",
   "metadata": {},
   "outputs": [
    {
     "name": "stdout",
     "output_type": "stream",
     "text": [
      "[0 1 2 3]\n"
     ]
    }
   ],
   "source": [
    "ar_rn = np.arange(4)\n",
    "print(ar_rn) # it will create an array with 4 values starting from 0 to 3"
   ]
  },
  {
   "cell_type": "markdown",
   "id": "b0fca897",
   "metadata": {},
   "source": [
    "Diagonal element fills with ones "
   ]
  },
  {
   "cell_type": "code",
   "execution_count": 28,
   "id": "5ea13c59",
   "metadata": {},
   "outputs": [
    {
     "name": "stdout",
     "output_type": "stream",
     "text": [
      "[[1. 0. 0. 0. 0.]\n",
      " [0. 1. 0. 0. 0.]\n",
      " [0. 0. 1. 0. 0.]]\n"
     ]
    }
   ],
   "source": [
    "ar_dia = np.eye(3,5) # it will create an identity matrix of 3 rows and 3 columns\n",
    "print(ar_dia)"
   ]
  },
  {
   "cell_type": "markdown",
   "id": "5c39349c",
   "metadata": {},
   "source": [
    "Line space function in numpy "
   ]
  },
  {
   "cell_type": "code",
   "execution_count": 29,
   "id": "db6489f0",
   "metadata": {},
   "outputs": [
    {
     "name": "stdout",
     "output_type": "stream",
     "text": [
      "[ 1.    3.25  5.5   7.75 10.  ]\n"
     ]
    }
   ],
   "source": [
    "ar_line = np.linspace(1,10,5) # it will create an array with 5 values starting from 1 to 10\n",
    "print(ar_line) # it will create an array with 5 values starting from 1 to 10"
   ]
  }
 ],
 "metadata": {
  "kernelspec": {
   "display_name": "Python 3",
   "language": "python",
   "name": "python3"
  },
  "language_info": {
   "codemirror_mode": {
    "name": "ipython",
    "version": 3
   },
   "file_extension": ".py",
   "mimetype": "text/x-python",
   "name": "python",
   "nbconvert_exporter": "python",
   "pygments_lexer": "ipython3",
   "version": "3.11.4"
  }
 },
 "nbformat": 4,
 "nbformat_minor": 5
}
